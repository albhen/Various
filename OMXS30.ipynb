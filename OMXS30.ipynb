{
 "cells": [
  {
   "cell_type": "markdown",
   "metadata": {},
   "source": [
    "Some calculations, plots and statistics on the OMXS30 dataset downloaded at\n",
    "\n",
    "http://www.nasdaqomxnordic.com/index/historiska_kurser?languageId=3&Instrument=SE0000337842\n",
    "\n",
    "\n",
    "\n",
    "\n",
    "\n"
   ]
  },
  {
   "cell_type": "code",
   "execution_count": 636,
   "metadata": {
    "scrolled": true
   },
   "outputs": [],
   "source": [
    "\"\"\"Importing libraries and loading data.\"\"\"\n",
    "\n",
    "import pandas as pd\n",
    "import matplotlib.pyplot as plt\n",
    "import numpy as np\n",
    "import datetime\n",
    "\n",
    "df= pd.read_excel('OMXS30data.xlsx')\n",
    "pd.set_option('display.max_rows',None)\n",
    "\n",
    "\n",
    "\n",
    "\"\"\"Renaming relevant columns.\"\"\"\n",
    "\n",
    "df=pd.DataFrame({\"Date\":df.loc[:,\"Datum\"],\"Closing price\": df.loc[:,\"StÃ¤ngn.kurs\"]})"
   ]
  },
  {
   "cell_type": "code",
   "execution_count": 637,
   "metadata": {
    "scrolled": true
   },
   "outputs": [
    {
     "name": "stderr",
     "output_type": "stream",
     "text": [
      "<ipython-input-637-f790520de308>:4: RuntimeWarning: divide by zero encountered in log\n",
      "  daily_rate_of_change=np.exp(-np.diff(np.log(x)))       # Combining logarithmic properties with the np.diff() function.\n"
     ]
    }
   ],
   "source": [
    "\"\"\"Calculating daily returns and adding a column with daily returns to the main dataframe.\"\"\"\n",
    "\n",
    "def returns(x): \n",
    "    daily_rate_of_change=np.exp(-np.diff(np.log(x)))       # Combining logarithmic properties with the np.diff() function.\n",
    "    return 100*(daily_rate_of_change-1)\n",
    "\n",
    "returns=returns(np.array(df.loc[:,\"Closing price\"]))\n",
    "df_returns=pd.DataFrame({\"Return (%)\":returns})\n",
    "df.drop(df.tail(1).index,inplace=True)                     # Dropping the first trading day, since we do not know its return.\n",
    "df[\"Return (%)\"]=df_returns                                # Adding the returns to the main dataframe."
   ]
  },
  {
   "cell_type": "code",
   "execution_count": 638,
   "metadata": {
    "scrolled": true
   },
   "outputs": [],
   "source": [
    "\"\"\"Due to some entries in \"Closing price\" being 0, we obtain some rows with -100% return and consequently, \n",
    "the following trading day has an infinite return. This is what causes the RuntimeWarning above.\n",
    "Here we filter out these datapoints.\"\"\"\n",
    "\n",
    "df=df[df[\"Return (%)\"]!=np.inf] \n",
    "df=df[df[\"Return (%)\"]!=-100] "
   ]
  },
  {
   "cell_type": "code",
   "execution_count": 639,
   "metadata": {},
   "outputs": [
    {
     "data": {
      "text/html": [
       "<div>\n",
       "<style scoped>\n",
       "    .dataframe tbody tr th:only-of-type {\n",
       "        vertical-align: middle;\n",
       "    }\n",
       "\n",
       "    .dataframe tbody tr th {\n",
       "        vertical-align: top;\n",
       "    }\n",
       "\n",
       "    .dataframe thead th {\n",
       "        text-align: right;\n",
       "    }\n",
       "</style>\n",
       "<table border=\"1\" class=\"dataframe\">\n",
       "  <thead>\n",
       "    <tr style=\"text-align: right;\">\n",
       "      <th></th>\n",
       "      <th>Closing price</th>\n",
       "      <th>Return (%)</th>\n",
       "    </tr>\n",
       "  </thead>\n",
       "  <tbody>\n",
       "    <tr>\n",
       "      <th>count</th>\n",
       "      <td>8907.000000</td>\n",
       "      <td>8907.000000</td>\n",
       "    </tr>\n",
       "    <tr>\n",
       "      <th>mean</th>\n",
       "      <td>876.579224</td>\n",
       "      <td>0.042154</td>\n",
       "    </tr>\n",
       "    <tr>\n",
       "      <th>std</th>\n",
       "      <td>559.387410</td>\n",
       "      <td>1.415061</td>\n",
       "    </tr>\n",
       "    <tr>\n",
       "      <th>min</th>\n",
       "      <td>98.860000</td>\n",
       "      <td>-10.571047</td>\n",
       "    </tr>\n",
       "    <tr>\n",
       "      <th>25%</th>\n",
       "      <td>334.080000</td>\n",
       "      <td>-0.669287</td>\n",
       "    </tr>\n",
       "    <tr>\n",
       "      <th>50%</th>\n",
       "      <td>842.070000</td>\n",
       "      <td>0.071731</td>\n",
       "    </tr>\n",
       "    <tr>\n",
       "      <th>75%</th>\n",
       "      <td>1292.815000</td>\n",
       "      <td>0.773894</td>\n",
       "    </tr>\n",
       "    <tr>\n",
       "      <th>max</th>\n",
       "      <td>2456.170000</td>\n",
       "      <td>11.653310</td>\n",
       "    </tr>\n",
       "  </tbody>\n",
       "</table>\n",
       "</div>"
      ],
      "text/plain": [
       "       Closing price   Return (%)\n",
       "count    8907.000000  8907.000000\n",
       "mean      876.579224     0.042154\n",
       "std       559.387410     1.415061\n",
       "min        98.860000   -10.571047\n",
       "25%       334.080000    -0.669287\n",
       "50%       842.070000     0.071731\n",
       "75%      1292.815000     0.773894\n",
       "max      2456.170000    11.653310"
      ]
     },
     "execution_count": 639,
     "metadata": {},
     "output_type": "execute_result"
    }
   ],
   "source": [
    "\"\"\"Some bacis statistics on the data.\"\"\"\n",
    "\n",
    "df.describe()"
   ]
  },
  {
   "cell_type": "code",
   "execution_count": 640,
   "metadata": {},
   "outputs": [
    {
     "data": {
      "image/png": "[encoded data removed]",
      "text/plain": [
       "<Figure size 432x288 with 1 Axes>"
      ]
     },
     "metadata": {},
     "output_type": "display_data"
    }
   ],
   "source": [
    "\"\"\"Plot of daily returns.\"\"\"\n",
    "\n",
    "returns=np.array(df.iloc[:, 2])\n",
    "dates=df.iloc[:, 0]\n",
    "plt.plot_date(dates, returns)\n",
    "plt.title(\"Daily returns of OMXS30 on the interval 1986-06-06 to 2022-03-31\")\n",
    "plt.ylabel(\"Daily return (%)\")\n",
    "plt.show()"
   ]
  },
  {
   "cell_type": "code",
   "execution_count": 641,
   "metadata": {
    "scrolled": true
   },
   "outputs": [
    {
     "data": {
      "image/png": "[encoded data removed]",
      "text/plain": [
       "<Figure size 432x288 with 1 Axes>"
      ]
     },
     "metadata": {},
     "output_type": "display_data"
    }
   ],
   "source": [
    "\"\"\"Quantile plot of daily returns.\"\"\"\n",
    "\n",
    "quantiles=np.linspace(0,1,1000)\n",
    "returns_quantiles=df.quantile(quantiles)[\"Return (%)\"]\n",
    "plt.title(\"Quantile plot of OMXS30 daily returns on the interval 1986-06-06 to 2022-03-31\")\n",
    "plt.xlabel(\"Percentile (%)\")\n",
    "plt.ylabel(\"Daily return (%)\")\n",
    "plt.plot(100*quantiles,returns_quantiles)\n",
    "plt.show()"
   ]
  },
  {
   "cell_type": "code",
   "execution_count": 642,
   "metadata": {},
   "outputs": [
    {
     "data": {
      "text/html": [
       "<div>\n",
       "<style scoped>\n",
       "    .dataframe tbody tr th:only-of-type {\n",
       "        vertical-align: middle;\n",
       "    }\n",
       "\n",
       "    .dataframe tbody tr th {\n",
       "        vertical-align: top;\n",
       "    }\n",
       "\n",
       "    .dataframe thead th {\n",
       "        text-align: right;\n",
       "    }\n",
       "</style>\n",
       "<table border=\"1\" class=\"dataframe\">\n",
       "  <thead>\n",
       "    <tr style=\"text-align: right;\">\n",
       "      <th></th>\n",
       "      <th>Date</th>\n",
       "      <th>Closing price</th>\n",
       "      <th>Return (%)</th>\n",
       "    </tr>\n",
       "  </thead>\n",
       "  <tbody>\n",
       "    <tr>\n",
       "      <th>5901</th>\n",
       "      <td>1998-10-12</td>\n",
       "      <td>579.57</td>\n",
       "      <td>11.653310</td>\n",
       "    </tr>\n",
       "    <tr>\n",
       "      <th>3353</th>\n",
       "      <td>2008-11-24</td>\n",
       "      <td>626.46</td>\n",
       "      <td>10.368034</td>\n",
       "    </tr>\n",
       "    <tr>\n",
       "      <th>7378</th>\n",
       "      <td>1992-11-20</td>\n",
       "      <td>162.60</td>\n",
       "      <td>9.539208</td>\n",
       "    </tr>\n",
       "    <tr>\n",
       "      <th>3343</th>\n",
       "      <td>2008-12-08</td>\n",
       "      <td>666.65</td>\n",
       "      <td>9.531086</td>\n",
       "    </tr>\n",
       "    <tr>\n",
       "      <th>4949</th>\n",
       "      <td>2002-07-29</td>\n",
       "      <td>529.11</td>\n",
       "      <td>9.243507</td>\n",
       "    </tr>\n",
       "    <tr>\n",
       "      <th>3399</th>\n",
       "      <td>2008-09-19</td>\n",
       "      <td>851.72</td>\n",
       "      <td>8.981101</td>\n",
       "    </tr>\n",
       "    <tr>\n",
       "      <th>3383</th>\n",
       "      <td>2008-10-13</td>\n",
       "      <td>675.85</td>\n",
       "      <td>8.486629</td>\n",
       "    </tr>\n",
       "    <tr>\n",
       "      <th>8648</th>\n",
       "      <td>1987-10-30</td>\n",
       "      <td>122.57</td>\n",
       "      <td>7.848658</td>\n",
       "    </tr>\n",
       "    <tr>\n",
       "      <th>7841</th>\n",
       "      <td>1991-01-17</td>\n",
       "      <td>152.71</td>\n",
       "      <td>7.754728</td>\n",
       "    </tr>\n",
       "    <tr>\n",
       "      <th>509</th>\n",
       "      <td>2020-03-24</td>\n",
       "      <td>1383.88</td>\n",
       "      <td>7.089076</td>\n",
       "    </tr>\n",
       "  </tbody>\n",
       "</table>\n",
       "</div>"
      ],
      "text/plain": [
       "           Date  Closing price  Return (%)\n",
       "5901 1998-10-12         579.57   11.653310\n",
       "3353 2008-11-24         626.46   10.368034\n",
       "7378 1992-11-20         162.60    9.539208\n",
       "3343 2008-12-08         666.65    9.531086\n",
       "4949 2002-07-29         529.11    9.243507\n",
       "3399 2008-09-19         851.72    8.981101\n",
       "3383 2008-10-13         675.85    8.486629\n",
       "8648 1987-10-30         122.57    7.848658\n",
       "7841 1991-01-17         152.71    7.754728\n",
       "509  2020-03-24        1383.88    7.089076"
      ]
     },
     "execution_count": 642,
     "metadata": {},
     "output_type": "execute_result"
    }
   ],
   "source": [
    "\"\"\"These functions filter the data and return a dataframe where only \n",
    "trading days with a minimum/maximum of d % return are included\"\"\"\n",
    "\n",
    "def minimum_return(X,d):\n",
    "    X_filtered=X[X.iloc[:, 2]>=d]\n",
    "    return X_filtered\n",
    "\n",
    "def maximum_return(X,d):\n",
    "    X_filtered=X[X.iloc[:, 2]<=d]\n",
    "    return X_filtered\n",
    "\n",
    "\n",
    "\n",
    "\"\"\"Dataframe containing only trading days with at least a 7 % daily return, sorted in descending order.\"\"\"\n",
    "\n",
    "d=7\n",
    "df_high_return=minimum_return(df,d).sort_values(by=['Return (%)'],ascending=False)    \n",
    "df_high_return"
   ]
  },
  {
   "cell_type": "code",
   "execution_count": 647,
   "metadata": {
    "scrolled": false
   },
   "outputs": [
    {
     "data": {
      "image/png": "[encoded data removed]",
      "text/plain": [
       "<Figure size 432x288 with 1 Axes>"
      ]
     },
     "metadata": {},
     "output_type": "display_data"
    }
   ],
   "source": [
    "\"\"\"\n",
    "Plots a histogram of the returns, given a filtered dataframe as described above.\n",
    "\n",
    "For a histogram where only returns of a minimum (maximum) of d % are included, set label=\"min\" (\"max\").\n",
    "\n",
    "For extreme values of d (|d|>4), it may be preferred to decrease the number of bins.\n",
    "\n",
    "To plot a histogram of the entire data, set, for example d=-np.inf and label=\"min\". \n",
    "\"\"\"\n",
    "\n",
    "d=0\n",
    "label=\"min\"\n",
    "bins=30\n",
    "\n",
    "def histogram(X,d,label,bins):\n",
    "    if label==\"min\":\n",
    "        X_filtered=minimum_return(X,d)\n",
    "        title_=\"Histogram of daily returns of OMXS30 with {0} bins of equal size, given that only days with a minimum return of {1} % are included.\".format(bins,d)\n",
    "    elif label==\"max\":\n",
    "        X_filtered=maximum_return(X,d)\n",
    "        title_=\"Histogram of daily returns of OMXS30 with {0} bins of equal size, given that only days with a maximum return of {1} % are included.\".format(bins,d)\n",
    "    else:\n",
    "        print(\"Invalid label\")\n",
    "    returns=np.array(X_filtered.iloc[:, 2])\n",
    "    sns.set_style('darkgrid')\n",
    "    p=sns.histplot(returns, bins=bins)\n",
    "    p=p.set( xlabel = \"Return (%)\", ylabel = \"Frequency\",title=title_)\n",
    "\n",
    "histogram(df,d,label,bins)"
   ]
  }
 ],
 "metadata": {
  "kernelspec": {
   "display_name": "Python 3",
   "language": "python",
   "name": "python3"
  },
  "language_info": {
   "codemirror_mode": {
    "name": "ipython",
    "version": 3
   },
   "file_extension": ".py",
   "mimetype": "text/x-python",
   "name": "python",
   "nbconvert_exporter": "python",
   "pygments_lexer": "ipython3",
   "version": "3.8.3"
  }
 },
 "nbformat": 4,
 "nbformat_minor": 4
}
